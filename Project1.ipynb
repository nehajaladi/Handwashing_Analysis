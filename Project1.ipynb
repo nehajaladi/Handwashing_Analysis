{
 "cells": [
  {
   "cell_type": "markdown",
   "id": "0af704d7",
   "metadata": {},
   "source": [
    "## Impact of handwashing on Mortality rates"
   ]
  },
  {
   "cell_type": "markdown",
   "id": "6151f61e",
   "metadata": {},
   "source": [
    "We will analyze the data to determine whether handwashing had any impact on the deaths of women giving birth during the early 1840s at the Vienna General Hospital. "
   ]
  },
  {
   "cell_type": "markdown",
   "id": "1a691a08",
   "metadata": {},
   "source": [
    "### 1. Reading the dataset"
   ]
  },
  {
   "cell_type": "markdown",
   "id": "b41c78a0",
   "metadata": {},
   "source": [
    "The table below shows the number of women giving birth at the two clinics (clinic 1 & clinic 2) between the years 1841 to 1846 at the Vienna General Hospital. "
   ]
  },
  {
   "cell_type": "code",
   "execution_count": 1,
   "id": "f87d503c",
   "metadata": {
    "dc": {
     "key": "13f090f9f0"
    },
    "tags": [
     "sample_code"
    ]
   },
   "outputs": [
    {
     "name": "stdout",
     "output_type": "stream",
     "text": [
      "   year  births  deaths    clinic\n",
      "0  1841    3036     237  clinic 1\n",
      "1  1842    3287     518  clinic 1\n",
      "2  1843    3060     274  clinic 1\n",
      "3  1844    3157     260  clinic 1\n",
      "4  1845    3492     241  clinic 1\n"
     ]
    }
   ],
   "source": [
    "#Import modules\n",
    "import pandas as pd\n",
    "import numpy as np\n",
    "\n",
    "#Read yearly deaths by clinic data into yearly variable\n",
    "yearly_data = pd.read_csv(\"Data/clinic_deaths_yearly.csv\")\n",
    "\n",
    "#Print the first few rows of yearly_data\n",
    "print(yearly_data.head())"
   ]
  },
  {
   "cell_type": "markdown",
   "id": "cc3454c1",
   "metadata": {},
   "source": [
    "### 2. Checking the Mortality rates"
   ]
  },
  {
   "cell_type": "markdown",
   "id": "03fa1325",
   "metadata": {},
   "source": [
    "From the above table we can see that many women died while giving birth. To analyze the proportion of deaths at Clinic 1 & 2, we need to look at the number of deaths in relation to the total number of women who gave birth at the clinic. If we divide the number of deaths by the total number of births and then multiply by 100, we can calculate the percentage of deaths. For example, if there were 100 births and 5 deaths, the proportion of deaths would be 5%."
   ]
  },
  {
   "cell_type": "code",
   "execution_count": 2,
   "id": "a47d0c28-3209-438e-a39e-65b37b346853",
   "metadata": {
    "dc": {
     "key": "45ea098e15"
    },
    "tags": [
     "sample_code"
    ]
   },
   "outputs": [
    {
     "name": "stdout",
     "output_type": "stream",
     "text": [
      "   year  births  deaths    clinic  proportion_deaths\n",
      "0  1841    3036     237  clinic 1               7.81\n",
      "1  1842    3287     518  clinic 1              15.76\n",
      "2  1843    3060     274  clinic 1               8.95\n",
      "3  1844    3157     260  clinic 1               8.24\n",
      "4  1845    3492     241  clinic 1               6.90\n",
      "5  1846    4010     459  clinic 1              11.45\n",
      "\n",
      "\n",
      "    year  births  deaths    clinic  proportion_deaths\n",
      "6   1841    2442      86  clinic 2               3.52\n",
      "7   1842    2659     202  clinic 2               7.60\n",
      "8   1843    2739     164  clinic 2               5.99\n",
      "9   1844    2956      68  clinic 2               2.30\n",
      "10  1845    3241      66  clinic 2               2.04\n",
      "11  1846    3754     105  clinic 2               2.80\n"
     ]
    }
   ],
   "source": [
    "#Calculate the percentage of deaths\n",
    "yearly_data[\"proportion_deaths\"]=round(yearly_data[\"deaths\"]/yearly_data[\"births\"]*100,2)\n",
    "\n",
    "#Clinic_1 and Clinic_2 are variables that store dataframes extracted from the yearly_data dataframe based on the clinic names.\n",
    "clinic_1 = yearly_data[yearly_data['clinic']=='clinic 1']\n",
    "clinic_2 = yearly_data[yearly_data['clinic']=='clinic 2']\n",
    "\n",
    "\n",
    "#Print out clinic_1 and clinic_2\n",
    "print(clinic_1)\n",
    "print(\"\\n\")\n",
    "print(clinic_2)\n"
   ]
  },
  {
   "cell_type": "markdown",
   "id": "70f04dd1",
   "metadata": {},
   "source": [
    "### 3. Visualizing the Mortality rates"
   ]
  },
  {
   "cell_type": "markdown",
   "id": "b4ebd677",
   "metadata": {},
   "source": [
    "If we plot the proportion of deaths on a graph, we can see an interesting pattern."
   ]
  },
  {
   "cell_type": "code",
   "execution_count": 3,
   "id": "a3ceac4e-084c-4369-83e5-9fd04d01d09a",
   "metadata": {
    "dc": {
     "key": "2bc9206960"
    },
    "tags": [
     "sample_code"
    ]
   },
   "outputs": [
    {
     "data": {
      "image/png": "[encoded data removed]",
      "text/plain": [
       "<Figure size 432x288 with 1 Axes>"
      ]
     },
     "metadata": {
      "needs_background": "light"
     },
     "output_type": "display_data"
    }
   ],
   "source": [
    "import seaborn as sns\n",
    "import matplotlib.pyplot as plt\n",
    "\n",
    "# Plot line graph for clinic_1 dataframe\n",
    "sns.lineplot(x='year', y='proportion_deaths', data=clinic_1, label=\"Clinic 1\")\n",
    "\n",
    "# Plot line graph for clinic_2 dataframe\n",
    "sns.lineplot(x='year', y='proportion_deaths', data=clinic_2, label=\"Clinic 2\")\n",
    "\n",
    "# Set the x-axis label\n",
    "plt.xlabel('Year')\n",
    "\n",
    "# Set the y-axis label\n",
    "plt.ylabel('Proportion of Deaths')\n",
    "\n",
    "# Set the title of the plot\n",
    "plt.title('Proportion of Deaths in Clinic 1 and Clinic 2')\n",
    "\n",
    "# Show the plot\n",
    "plt.show()"
   ]
  },
  {
   "cell_type": "markdown",
   "id": "13703bf4",
   "metadata": {},
   "source": [
    "### 4.Handwashing protocol"
   ]
  },
  {
   "cell_type": "markdown",
   "id": "1c4a868b",
   "metadata": {},
   "source": [
    "There seems to be clearly a difference in the mortality rates between Clinic 1 and Clinic 2. Proportion of Deaths in Clinic 2 is much higher than Clinic two consistently for so many years.\n",
    "\n",
    "In the 19th century, before the discovery of bacteria, it was not well understood how diseases spread. Dr. Semmelweis observed that the mortality rate at Clininc 2 where midwives worked was much higher than at the Clinic 1 where medical students worked. He hypothesized that medical students, who also performed autopsies, may have been unknowingly transmitting infection to the women they were treating in the maternity ward.\n",
    "\n",
    "To test his hypothesis, Dr. Semmelweis implemented a strict hand-washing protocol for medical students and other staff who worked in the maternity ward.\n",
    "\n",
    "We will be analysing whether the hand-washing protocol had any significant impact on the mortality rates."
   ]
  },
  {
   "cell_type": "code",
   "execution_count": 4,
   "id": "8b651712-6baf-4e4b-aca5-18c74529ef10",
   "metadata": {
    "dc": {
     "key": "0c9fdbf550"
    },
    "tags": [
     "sample_code"
    ]
   },
   "outputs": [
    {
     "name": "stdout",
     "output_type": "stream",
     "text": [
      "        date  births  deaths  proportion_deaths\n",
      "0 1841-01-01     254      37              14.57\n",
      "1 1841-02-01     239      18               7.53\n",
      "2 1841-03-01     277      12               4.33\n",
      "3 1841-04-01     255       4               1.57\n",
      "4 1841-05-01     255       2               0.78\n"
     ]
    }
   ],
   "source": [
    "# Read births_deaths_montly dataset into monthly_data variable \n",
    "monthly_data = pd.read_csv(\"Data/births_deaths_monthly.csv\", parse_dates=['date'])\n",
    "\n",
    "# Calculate the percentage of deaths\n",
    "monthly_data[\"proportion_deaths\"]=round(monthly_data[\"deaths\"]/monthly_data[\"births\"]*100,2)\n",
    "\n",
    "#Print the first few rows of monthly_data\n",
    "print(monthly_data.head())"
   ]
  },
  {
   "cell_type": "markdown",
   "id": "5f83a3cc",
   "metadata": {},
   "source": [
    "### 5. The effect of handwashing"
   ]
  },
  {
   "cell_type": "markdown",
   "id": "8977faa0",
   "metadata": {},
   "source": [
    "Plotting the data of the monthly_data dataframe will help us understand how the proportion of deaths changed overtime. Inorder to highlight the difference before and after started the handwashing protcol,we will be using different colors in the plot."
   ]
  },
  {
   "cell_type": "code",
   "execution_count": 5,
   "id": "53584582-b347-4a3d-8017-1cad7002e4fc",
   "metadata": {
    "dc": {
     "key": "2da2a84119"
    },
    "tags": [
     "sample_code"
    ]
   },
   "outputs": [
    {
     "data": {
      "image/png": "[encoded data removed]",
      "text/plain": [
       "<Figure size 432x288 with 1 Axes>"
      ]
     },
     "metadata": {
      "needs_background": "light"
     },
     "output_type": "display_data"
    }
   ],
   "source": [
    "# Plot monthly proportion of deaths\n",
    "Monthly_Prop=monthly_data.plot(x='date',y='proportion_deaths',label='clinic_1', ylabel='Proportion deaths')"
   ]
  },
  {
   "cell_type": "markdown",
   "id": "4c2f2574",
   "metadata": {},
   "source": [
    "### 6. Highlighting the effect of handwashing\n"
   ]
  },
  {
   "cell_type": "markdown",
   "id": "aba250a3",
   "metadata": {},
   "source": [
    "From the above graph, we can see that from mid of 1847 the proportions of deaths have been drastically reduced. That also happens to the time period when Dr.Semmelweis had made the handwashing mandatory. "
   ]
  },
  {
   "cell_type": "code",
   "execution_count": 6,
   "id": "13ddb3db-48e8-4373-91e9-c8a77306c2ec",
   "metadata": {
    "dc": {
     "key": "518e95acc5"
    },
    "tags": [
     "sample_code"
    ]
   },
   "outputs": [
    {
     "data": {
      "text/plain": [
       "<AxesSubplot:xlabel='Year', ylabel='Proportion_deaths'>"
      ]
     },
     "execution_count": 6,
     "metadata": {},
     "output_type": "execute_result"
    },
    {
     "data": {
      "image/png": "[encoded data removed]",
      "text/plain": [
       "<Figure size 432x288 with 1 Axes>"
      ]
     },
     "metadata": {
      "needs_background": "light"
     },
     "output_type": "display_data"
    }
   ],
   "source": [
    "# Date when handwashing was made mandatory\n",
    "handwashing_start = pd.to_datetime('1847-06-01')\n",
    "\n",
    "# Split monthly into before and after handwashing_start\n",
    "before_washing = monthly_data[monthly_data[\"date\"]<handwashing_start]\n",
    "after_washing =  monthly_data[monthly_data[\"date\"]>=handwashing_start]\n",
    "\n",
    "# Plot monthly proportion of deaths before and after handwashing\n",
    "Monthly_Prop=before_washing.plot(x='date',y='proportion_deaths', label='Before starting handwash')\n",
    "after_washing.plot(x='date',y='proportion_deaths',ax=Monthly_Prop, label='After starting handwash', ylabel=\"Proportion_deaths\", xlabel=\"Year\")"
   ]
  },
  {
   "cell_type": "markdown",
   "id": "c1e3bc44",
   "metadata": {},
   "source": [
    "### 7. More handwashing = fewer deaths?"
   ]
  },
  {
   "cell_type": "markdown",
   "id": "369bf31a",
   "metadata": {},
   "source": [
    "How much did it reduce the monthly proportion of deaths on average?\n",
    "Lets calculate the difference in means between the proportion of deaths before and after handwashing was introduced."
   ]
  },
  {
   "cell_type": "code",
   "execution_count": 7,
   "id": "6f252675-f153-44b6-9eec-de18f8c3917b",
   "metadata": {
    "dc": {
     "key": "586a9f9803"
    },
    "tags": [
     "sample_code"
    ]
   },
   "outputs": [
    {
     "name": "stdout",
     "output_type": "stream",
     "text": [
      "-8.395645933014357\n"
     ]
    }
   ],
   "source": [
    "#Extract the proportion of deaths before handwashing from the before_washing data and store it in the before_proportion variable.\n",
    "before_proportion = before_washing['proportion_deaths']\n",
    "\n",
    "#Extract the proportion of deaths after handwashing from the after_washing data and store it in the after_proportion variable.\n",
    "after_proportion = after_washing['proportion_deaths']\n",
    "\n",
    "#Calculate the difference in mean between the two sets of data\n",
    "mean_diff = np.mean(after_proportion)-np.mean(before_proportion)\n",
    "\n",
    "print(mean_diff)"
   ]
  },
  {
   "cell_type": "markdown",
   "id": "06d04dc7",
   "metadata": {},
   "source": [
    "### 8. Performing a Bootstrap analysis.\n"
   ]
  },
  {
   "cell_type": "markdown",
   "id": "51f5a371",
   "metadata": {},
   "source": [
    "We can see that implementing the handwashing protocol reduced the proportion of deaths by around 8% points. This mean its reducted on an average from 10% to 2%.\n",
    "\n",
    "If the difference in mortality rates between Clinic 1 and Clinic 2 is due to differences in hygiene practices, then it may be possible to improve outcomes by implementing better infection control measures in Clinic 2.\n",
    "\n",
    "Lets look at the confidence interval to see the uncertainity around how much handwashing reduces mortality rates.\n",
    "\n",
    "A confidence interval is a range of values that is likely to contain the true effect of an intervention (such as handwashing) with a certain degree of confidence. The bootstrap method is a statistical technique for estimating the variability of an estimate by resampling the data.\n",
    "\n",
    "\n",
    "The below code is a bootstrap analysis of the reduction of deaths due to handwashing"
   ]
  },
  {
   "cell_type": "code",
   "execution_count": 8,
   "id": "c6f9722e-4acb-49f8-bb94-309af6339e37",
   "metadata": {
    "dc": {
     "key": "d8ff65292a"
    },
    "tags": [
     "sample_code"
    ]
   },
   "outputs": [
    {
     "data": {
      "text/plain": [
       "0.025   -10.123211\n",
       "0.975    -6.685914\n",
       "dtype: float64"
      ]
     },
     "execution_count": 8,
     "metadata": {},
     "output_type": "execute_result"
    }
   ],
   "source": [
    "#Calculates 3000 bootstrap samples and appends the mean difference in mortality rates to a list boot_mean_diff.\n",
    "boot_mean_diff = []\n",
    "for i in range(3000):\n",
    "    boot_before = before_proportion.sample(frac=1,replace=True)\n",
    "    boot_after = after_proportion.sample(frac=1,replace=True)\n",
    "    boot_mean_diff.append( boot_after.mean()-boot_before.mean() )\n",
    "\n",
    "#Calculates a 95% confidence interval from boot_mean_diff \n",
    "confidence_interval = pd.Series(boot_mean_diff).quantile([0.025,0.975])\n",
    "confidence_interval"
   ]
  },
  {
   "cell_type": "markdown",
   "id": "12e4b246",
   "metadata": {},
   "source": [
    "### 9.Conclusion"
   ]
  },
  {
   "cell_type": "markdown",
   "id": "ddb2bb72",
   "metadata": {},
   "source": [
    "So handwashing reduced the proportion of deaths by between 6.7 and 10 percentage points, according to a 95% confidence interval. This provided strong evidence that handwashing was a simple yet highly effective procedure that could save many lives. "
   ]
  }
 ],
 "metadata": {
  "editor": "DataCamp Workspace",
  "kernelspec": {
   "display_name": "Python 3 (ipykernel)",
   "language": "python",
   "name": "python3"
  },
  "language_info": {
   "codemirror_mode": {
    "name": "ipython",
    "version": 3
   },
   "file_extension": ".py",
   "mimetype": "text/x-python",
   "name": "python",
   "nbconvert_exporter": "python",
   "pygments_lexer": "ipython3",
   "version": "3.9.12"
  },
  "vscode": {
   "interpreter": {
    "hash": "11dcc037469788031428124f9c3e7bbc2c21f9e7c0d0dfb368a2ff00b57d31e7"
   }
  }
 },
 "nbformat": 4,
 "nbformat_minor": 5
}
